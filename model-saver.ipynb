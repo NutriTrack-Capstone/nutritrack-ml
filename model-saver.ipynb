{
 "cells": [
  {
   "cell_type": "code",
   "execution_count": 1,
   "id": "initial_id",
   "metadata": {
    "ExecuteTime": {
     "end_time": "2023-12-19T03:33:06.898577900Z",
     "start_time": "2023-12-19T03:32:59.145454100Z"
    },
    "collapsed": true
   },
   "outputs": [],
   "source": [
    "import tensorflow as tf\n",
    "import os"
   ]
  },
  {
   "cell_type": "code",
   "execution_count": 2,
   "id": "c32a6885",
   "metadata": {
    "ExecuteTime": {
     "end_time": "2023-12-19T03:33:09.917503900Z",
     "start_time": "2023-12-19T03:33:06.896574500Z"
    }
   },
   "outputs": [],
   "source": [
    "model_path = os.path.join(os.getcwd(), 'h5-models', 'model-2-2.h5')\n",
    "model = tf.keras.models.load_model(model_path)"
   ]
  },
  {
   "cell_type": "code",
   "execution_count": 3,
   "id": "55ff1281",
   "metadata": {
    "ExecuteTime": {
     "end_time": "2023-12-19T03:33:14.618895400Z",
     "start_time": "2023-12-19T03:33:14.590231800Z"
    }
   },
   "outputs": [],
   "source": [
    "class_names = [\n",
    "    'alpukat',\n",
    "    'anggur',\n",
    "    'aprikot',\n",
    "    'ayam_goreng',\n",
    "    'ayam_pop',\n",
    "    'bluberi',\n",
    "    'burger',\n",
    "    'ceri',\n",
    "    'daging_rendang',\n",
    "    'delima',\n",
    "    'dendeng_batokok',\n",
    "    'es_krim',\n",
    "    'gulai_ikan',\n",
    "    'gulai_tambusu',\n",
    "    'gulai_tunjang',\n",
    "    'hot_dog',\n",
    "    'jagung',\n",
    "    'jeruk',\n",
    "    'kentang_goreng',\n",
    "    'kiwi',\n",
    "    'kue_dadar_gulung',\n",
    "    'kue_kastengel',\n",
    "    'kue_klepon',\n",
    "    'kue_lapis',\n",
    "    'kue_lumpur',\n",
    "    'kue_putri_salju',\n",
    "    'kue_risol',\n",
    "    'kue_serabi',\n",
    "    'lemon',\n",
    "    'limun',\n",
    "    'mangga',\n",
    "    'nanas',\n",
    "    'omelet',\n",
    "    'pepaya',\n",
    "    'persik',\n",
    "    'pir',\n",
    "    'pisang',\n",
    "    'plum',\n",
    "    'rasberi',\n",
    "    'roti',\n",
    "    'semangka',\n",
    "    'stroberi',\n",
    "    'telur_balado',\n",
    "    'telur_dadar',\n",
    "    'tomat',\n",
    "]"
   ]
  },
  {
   "cell_type": "code",
   "execution_count": 4,
   "id": "6db0a2b01604e0",
   "metadata": {
    "ExecuteTime": {
     "end_time": "2023-12-19T03:33:15.963704500Z",
     "start_time": "2023-12-19T03:33:15.948620300Z"
    },
    "collapsed": false
   },
   "outputs": [],
   "source": [
    "@tf.function\n",
    "def predict_image_class(img):\n",
    "    output = model(img)\n",
    "    indices = tf.where(tf.math.greater_equal(output[0], tf.constant([0.5])))\n",
    "\n",
    "    return {\n",
    "        'label': tf.gather(class_names, indices), \n",
    "        'score': tf.gather(output[0], indices),\n",
    "    }"
   ]
  },
  {
   "cell_type": "code",
   "execution_count": 5,
   "id": "4e5e69d71a1774f4",
   "metadata": {
    "ExecuteTime": {
     "end_time": "2023-12-19T03:33:17.097596100Z",
     "start_time": "2023-12-19T03:33:17.071525800Z"
    },
    "collapsed": false
   },
   "outputs": [],
   "source": [
    "version = 2     # change this when other versions exist\n",
    "export_path = os.path.join(os.curdir, 'models', str(version))"
   ]
  },
  {
   "cell_type": "code",
   "execution_count": 6,
   "id": "da132ad7832fadf9",
   "metadata": {
    "ExecuteTime": {
     "end_time": "2023-12-19T03:33:39.206813500Z",
     "start_time": "2023-12-19T03:33:19.306256700Z"
    },
    "collapsed": false
   },
   "outputs": [
    {
     "name": "stdout",
     "output_type": "stream",
     "text": [
      "INFO:tensorflow:Assets written to: .\\models\\1\\assets\n"
     ]
    },
    {
     "name": "stderr",
     "output_type": "stream",
     "text": [
      "INFO:tensorflow:Assets written to: .\\models\\1\\assets\n"
     ]
    }
   ],
   "source": [
    "tf.keras.models.save_model(\n",
    "    model,\n",
    "    export_path,\n",
    "    overwrite=True,\n",
    "    include_optimizer=True,\n",
    "    save_format=None,\n",
    "    signatures={\n",
    "        \"predict_image_class\": predict_image_class.get_concrete_function(tf.TensorSpec(None))\n",
    "    },\n",
    "    options=None\n",
    ")"
   ]
  }
 ],
 "metadata": {
  "kernelspec": {
   "display_name": "Python 3",
   "language": "python",
   "name": "python3"
  },
  "language_info": {
   "codemirror_mode": {
    "name": "ipython",
    "version": 3
   },
   "file_extension": ".py",
   "mimetype": "text/x-python",
   "name": "python",
   "nbconvert_exporter": "python",
   "pygments_lexer": "ipython3",
   "version": "3.9.13"
  }
 },
 "nbformat": 4,
 "nbformat_minor": 5
}

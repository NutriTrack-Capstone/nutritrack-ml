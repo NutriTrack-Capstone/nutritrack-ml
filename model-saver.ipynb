{
 "cells": [
  {
   "cell_type": "code",
   "execution_count": null,
   "id": "initial_id",
   "metadata": {
    "ExecuteTime": {
     "end_time": "2023-12-16T10:05:08.639094Z",
     "start_time": "2023-12-16T10:04:37.796723600Z"
    },
    "collapsed": true
   },
   "outputs": [],
   "source": [
    "import tensorflow as tf\n",
    "import os"
   ]
  },
  {
   "cell_type": "code",
   "execution_count": null,
   "id": "c32a6885",
   "metadata": {},
   "outputs": [],
   "source": [
    "model_path = ...\n",
    "model = tf.keras.models.load_model(model_path)"
   ]
  },
  {
   "cell_type": "code",
   "execution_count": null,
   "id": "55ff1281",
   "metadata": {},
   "outputs": [],
   "source": [
    "class_names = [\n",
    "    ...\n",
    "]"
   ]
  },
  {
   "cell_type": "code",
   "execution_count": null,
   "id": "6db0a2b01604e0",
   "metadata": {
    "ExecuteTime": {
     "end_time": "2023-12-16T12:49:30.695051700Z",
     "start_time": "2023-12-16T12:49:30.681043600Z"
    },
    "collapsed": false
   },
   "outputs": [],
   "source": [
    "@tf.function\n",
    "def predict_image_class(img):\n",
    "    output = model(img)\n",
    "    indices = tf.where(tf.math.greater_equal(output[0], tf.constant([0.5])))\n",
    "\n",
    "    return {\n",
    "        'label': tf.gather(class_names, indices), \n",
    "        'score': tf.gather(output[0], indices),\n",
    "    }"
   ]
  },
  {
   "cell_type": "code",
   "execution_count": null,
   "id": "4e5e69d71a1774f4",
   "metadata": {
    "ExecuteTime": {
     "end_time": "2023-12-16T12:44:13.957663900Z",
     "start_time": "2023-12-16T12:44:13.942647700Z"
    },
    "collapsed": false
   },
   "outputs": [],
   "source": [
    "version = 1     # change this when other versions exist\n",
    "export_path = os.path.join(os.curdir, 'saved-model', str(version))"
   ]
  },
  {
   "cell_type": "code",
   "execution_count": null,
   "id": "da132ad7832fadf9",
   "metadata": {
    "ExecuteTime": {
     "end_time": "2023-12-16T12:49:35.035084Z",
     "start_time": "2023-12-16T12:49:33.010817700Z"
    },
    "collapsed": false
   },
   "outputs": [],
   "source": [
    "tf.keras.models.save_model(\n",
    "    model,\n",
    "    export_path,\n",
    "    overwrite=True,\n",
    "    include_optimizer=True,\n",
    "    save_format=None,\n",
    "    signatures={\n",
    "        \"predict_image\": predict_image_class.get_concrete_function(tf.TensorSpec(None))\n",
    "    },\n",
    "    options=None\n",
    ")"
   ]
  }
 ],
 "metadata": {
  "kernelspec": {
   "display_name": "Python 3",
   "language": "python",
   "name": "python3"
  },
  "language_info": {
   "codemirror_mode": {
    "name": "ipython",
    "version": 3
   },
   "file_extension": ".py",
   "mimetype": "text/x-python",
   "name": "python",
   "nbconvert_exporter": "python",
   "pygments_lexer": "ipython3",
   "version": "3.9.13"
  }
 },
 "nbformat": 4,
 "nbformat_minor": 5
}
